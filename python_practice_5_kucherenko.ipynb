{
 "nbformat": 4,
 "nbformat_minor": 0,
 "metadata": {
  "colab": {
   "provenance": []
  },
  "kernelspec": {
   "name": "python3",
   "language": "python",
   "display_name": "Python 3 (ipykernel)"
  },
  "language_info": {
   "name": "python"
  }
 },
 "cells": [
  {
   "cell_type": "markdown",
   "source": [
    "# I. OOP"
   ],
   "metadata": {
    "id": "5qV_sehzFCTp"
   }
  },
  {
   "cell_type": "markdown",
   "source": [
    "1. (6б). Створіть клас Animal, додайте три атрибути, один з яких має значення за замовчуванням та два методи на свій розсуд."
   ],
   "metadata": {
    "id": "tx_U_hOALyfg"
   }
  },
  {
   "cell_type": "code",
   "source": [
    "class Animal:\n",
    "    def __init__(self, name, species, sound='Roar'):\n",
    "        self.name = name\n",
    "        self.species = species\n",
    "        self.sound = sound\n",
    "        \n",
    "    def make_sound(self):\n",
    "        return f\"{self.name} says {self.sound}!\"\n",
    "    \n",
    "    def display_info(self):\n",
    "        return f\"This is {self.name}, a {self.species}.\""
   ],
   "metadata": {
    "id": "-Vf895KaL88N",
    "ExecuteTime": {
     "end_time": "2024-03-02T14:57:31.093454Z",
     "start_time": "2024-03-02T14:57:31.069364Z"
    }
   },
   "execution_count": 36,
   "outputs": []
  },
  {
   "cell_type": "markdown",
   "source": [
    "2. (2б). Створіть два обʼєкти цього класу, де один з обʼєктів створюється із дефолтним значенням атрибуту. На одному обʼєкті отримайте значення його атрибуту, а на іншому викличте один з його методів."
   ],
   "metadata": {
    "id": "X_UlOMB0L93w"
   }
  },
  {
   "cell_type": "code",
   "source": [
    "dog = Animal('Garry', 'Dog', 'Woof')\n",
    "bear = Animal('Ben', 'Bear')\n",
    "\n",
    "print(dog.species)\n",
    "bear.make_sound()"
   ],
   "metadata": {
    "id": "7gBu0ESOMCpG",
    "ExecuteTime": {
     "end_time": "2024-03-02T14:57:31.108760Z",
     "start_time": "2024-03-02T14:57:31.096292Z"
    }
   },
   "execution_count": 37,
   "outputs": [
    {
     "name": "stdout",
     "output_type": "stream",
     "text": [
      "Dog\n"
     ]
    },
    {
     "data": {
      "text/plain": "'Ben says Roar!'"
     },
     "execution_count": 37,
     "metadata": {},
     "output_type": "execute_result"
    }
   ]
  },
  {
   "cell_type": "markdown",
   "source": [
    "3. (5б). Створіть клас, де атрибути мають різні рівні доступу. Спробуйте отримати їхні значення та опишіть результати."
   ],
   "metadata": {
    "id": "HoqSCZt1MHn5"
   }
  },
  {
   "cell_type": "code",
   "source": [
    "class TestClass:\n",
    "    def __init__(self, default_attr, protected_attr, private_attr):\n",
    "        self.default_attr = default_attr\n",
    "        self._protected_attr = protected_attr\n",
    "        self.__private_attr = private_attr\n",
    "        \n",
    "test = TestClass('test1', 'testTitle')\n",
    "print(test.obj_name) # this is a public attribute\n",
    "print(test._title) # this is a protected attribute\n",
    "print(test.__private_attr) # this is a private attribute that can't be seen -> we get an error"
   ],
   "metadata": {
    "id": "r9b3vJxBMSPV",
    "ExecuteTime": {
     "end_time": "2024-03-02T14:57:31.139565Z",
     "start_time": "2024-03-02T14:57:31.118332Z"
    }
   },
   "execution_count": 38,
   "outputs": [
    {
     "ename": "TypeError",
     "evalue": "TestClass.__init__() missing 1 required positional argument: 'private_attr'",
     "output_type": "error",
     "traceback": [
      "\u001B[0;31m---------------------------------------------------------------------------\u001B[0m",
      "\u001B[0;31mTypeError\u001B[0m                                 Traceback (most recent call last)",
      "Cell \u001B[0;32mIn[38], line 7\u001B[0m\n\u001B[1;32m      4\u001B[0m         \u001B[38;5;28mself\u001B[39m\u001B[38;5;241m.\u001B[39m_protected_attr \u001B[38;5;241m=\u001B[39m protected_attr\n\u001B[1;32m      5\u001B[0m         \u001B[38;5;28mself\u001B[39m\u001B[38;5;241m.\u001B[39m__private_attr \u001B[38;5;241m=\u001B[39m private_attr\n\u001B[0;32m----> 7\u001B[0m test \u001B[38;5;241m=\u001B[39m \u001B[43mTestClass\u001B[49m\u001B[43m(\u001B[49m\u001B[38;5;124;43m'\u001B[39;49m\u001B[38;5;124;43mtest1\u001B[39;49m\u001B[38;5;124;43m'\u001B[39;49m\u001B[43m,\u001B[49m\u001B[43m \u001B[49m\u001B[38;5;124;43m'\u001B[39;49m\u001B[38;5;124;43mtestTitle\u001B[39;49m\u001B[38;5;124;43m'\u001B[39;49m\u001B[43m)\u001B[49m\n\u001B[1;32m      8\u001B[0m \u001B[38;5;28mprint\u001B[39m(test\u001B[38;5;241m.\u001B[39mobj_name) \u001B[38;5;66;03m# this is a public attribute\u001B[39;00m\n\u001B[1;32m      9\u001B[0m \u001B[38;5;28mprint\u001B[39m(test\u001B[38;5;241m.\u001B[39m_title) \u001B[38;5;66;03m# this is a protected attribute\u001B[39;00m\n",
      "\u001B[0;31mTypeError\u001B[0m: TestClass.__init__() missing 1 required positional argument: 'private_attr'"
     ]
    }
   ]
  },
  {
   "cell_type": "markdown",
   "source": [
    "4. (7б). Як ви розумієте термін self? Для чого використовується метод __init __?"
   ],
   "metadata": {
    "id": "5op2m2vgMSkZ"
   }
  },
  {
   "cell_type": "markdown",
   "source": [
    "self в Python - це посилання на поточний об'єкт класу. Метод __init__ - це спеціальний метод, який викликається при створенні нового об'єкта і використовується для ініціалізації його атрибутів."
   ],
   "metadata": {
    "id": "DyiPqNRvMasx"
   }
  },
  {
   "cell_type": "markdown",
   "source": [
    "5. (9б). Створіть клас Фігура без атрибутів, з методом get_area для отримання площі фігури, що повертає 0 та __add __, який приймає self та other в якості аргументів, а повертає суму площин фігур self та other."
   ],
   "metadata": {
    "id": "-6X8EGfjMd2y"
   }
  },
  {
   "cell_type": "code",
   "source": [
    "class Figure:\n",
    "    def get_area(self):\n",
    "        return 0\n",
    "    def __add__(self, other):\n",
    "        return self.get_area() + other.get_area()"
   ],
   "metadata": {
    "id": "4rvO_wYUMaEr",
    "ExecuteTime": {
     "start_time": "2024-03-02T14:57:31.120930Z"
    }
   },
   "execution_count": null,
   "outputs": []
  },
  {
   "cell_type": "markdown",
   "source": [
    "6. (11б). Створіть 2 дочірніх класи від Фігури: Трикутник та Коло, які мають атрибути, необхідні для розрахунку площин. Визначте метод get_area в кожному з них так, щоби вони розраховували площу в залежності від формули для кожного типу фігури. Створіть обʼєкт класу Трикутник та обʼєкт класу Коло. Виконайте операцію суми за допомогою оператора + між ними."
   ],
   "metadata": {
    "id": "SFcKnnv5Mo_z"
   }
  },
  {
   "cell_type": "code",
   "source": [
    "import math\n",
    "\n",
    "class Triangle(Figure):\n",
    "    def __init__(self, base, height):\n",
    "        self.base = base\n",
    "        self.height = height\n",
    "    \n",
    "    def get_area(self):\n",
    "        return 0.5 * self.base * self.height\n",
    "\n",
    "class Circle(Figure):\n",
    "    def __init__(self, radius):\n",
    "        self.radius = radius\n",
    "    \n",
    "    def get_area(self):\n",
    "        return math.pi * self.radius ** 2    \n",
    "    \n",
    "triangle = Triangle(5, 8)\n",
    "circle = Circle(4)\n",
    "\n",
    "print(\"Triangle area:\", triangle.get_area())\n",
    "print(\"Circle area:\", circle.get_area())\n",
    "\n",
    "print(\"Sum of areas:\", triangle + circle)"
   ],
   "metadata": {
    "id": "H3GVNr69Muf3",
    "ExecuteTime": {
     "start_time": "2024-03-02T14:57:31.121876Z"
    }
   },
   "execution_count": null,
   "outputs": []
  },
  {
   "cell_type": "markdown",
   "source": [
    "7. (3б). Продемонструйте різницю між isinstance та issubclass."
   ],
   "metadata": {
    "id": "HCvR206YMvLK"
   }
  },
  {
   "cell_type": "code",
   "source": [
    "figure_obj = Figure()\n",
    "circle_obj = Circle(5)\n",
    "triangle_obj = Triangle(2,4)\n",
    "\n",
    "print(f'figure_obj is an instance of Circle: {isinstance(figure_obj, Circle)}')  \n",
    "print(f'circle_obj is an instance of Triangle: {isinstance(circle_obj, Triangle)}')  \n",
    "print(f'triangle_obj is an instance of Figure: {isinstance(triangle_obj, Figure)}')  \n",
    "\n",
    "print(f'Circle a subclass of Figure? {issubclass(Circle, Figure)}')  \n",
    "print(f'Triangle a subclass of Circle? {issubclass(Triangle, Circle)}')  "
   ],
   "metadata": {
    "id": "L_V1bBvDM0GN",
    "ExecuteTime": {
     "start_time": "2024-03-02T14:57:31.122770Z"
    }
   },
   "execution_count": null,
   "outputs": []
  },
  {
   "cell_type": "markdown",
   "source": [
    "8. (13б). Створіть клас BankAccount з приватними атрибутами balance та account_number. Реалізуйте методи поповнення та зняття коштів, забезпечивши належну інкапсуляцію. Підказка: використовуйте декоратори property та setter."
   ],
   "metadata": {
    "id": "jjsaBZ-iM0Qq"
   }
  },
  {
   "cell_type": "code",
   "source": [
    "class BankAccount:\n",
    "    def __init__(self, balance, account_number):\n",
    "        self.__balance = balance\n",
    "        self.__account_number = account_number\n",
    "    \n",
    "    @property\n",
    "    def balance(self):\n",
    "        return self._balance\n",
    "\n",
    "    @balance.setter\n",
    "    def balance(self, amount):\n",
    "        if amount < 0:\n",
    "            print('Amount must be a positive number')\n",
    "        else:\n",
    "            self.__balance = amount\n",
    "\n",
    "    def deposit(self, amount):\n",
    "        if amount < 0:\n",
    "            print('Amount must be a positive number')\n",
    "        else:\n",
    "            self.balance += amount\n",
    "            print(f'Successfully deposited {amount} units. New balance: {self.balance}')\n",
    "\n",
    "    def withdraw(self, amount):\n",
    "        if amount < 0:\n",
    "            print('Amount must be a positive number')\n",
    "        elif amount > self.balance:\n",
    "            print('Insufficient funds')\n",
    "        else:\n",
    "            self.balance -= amount\n",
    "            print(f'Successfully withdrawn {amount} units. New balance: {self.balance}')    \n",
    "    "
   ],
   "metadata": {
    "id": "xCvZ7lh8M7YA",
    "ExecuteTime": {
     "start_time": "2024-03-02T14:57:31.123473Z"
    }
   },
   "execution_count": null,
   "outputs": []
  },
  {
   "cell_type": "markdown",
   "source": [
    "9. (11б). Створіть клас Library, який містить список об'єктів типу Book. Реалізуйте методи для додавання книги, видалення книги та відображення списку книг."
   ],
   "metadata": {
    "id": "tIzL2SJTM8ft"
   }
  },
  {
   "cell_type": "code",
   "source": [
    "class Book:\n",
    "    def __init__(self, title, author):\n",
    "        self.title = title\n",
    "        self.author = author\n",
    "\n",
    "class Library:\n",
    "    def __init__(self):\n",
    "        self.books = []\n",
    "\n",
    "    def add_book(self, book):\n",
    "        self.books.append(book)\n",
    "        print(f\"Book '{book.title}' by {book.author} added to the library.\")\n",
    "\n",
    "    def remove_book(self, title):\n",
    "        for book in self.books:\n",
    "            if book.title == title:\n",
    "                self.books.remove(book)\n",
    "                print(f\"Book '{title}' removed from the library.\")\n",
    "                return\n",
    "        print(f\"Book '{title}' not found in the library.\")\n",
    "\n",
    "    def display_books(self):\n",
    "        if not self.books:\n",
    "            print(\"The library is empty.\")\n",
    "        else:\n",
    "            print(\"Books in the library:\")\n",
    "            for book in self.books:\n",
    "                print(f\"- '{book.title}' by {book.author}\")\n",
    "                \n",
    "library = Library()\n",
    "\n",
    "book1 = Book(\"1984\", \"George Orwell\")\n",
    "book2 = Book(\"To Kill a Mockingbird\", \"Harper Lee\")\n",
    "book3 = Book(\"The Catcher in the Rye\", \"J.D. Salinger\")\n",
    "\n",
    "library.add_book(book1)\n",
    "library.add_book(book2)\n",
    "library.add_book(book3)\n",
    "\n",
    "library.display_books()\n",
    "\n",
    "library.remove_book(\"1984\")\n",
    "library.remove_book(\"The Great Gatsby\")\n",
    "\n",
    "library.display_books()"
   ],
   "metadata": {
    "id": "HWxfJKLtNAUZ",
    "ExecuteTime": {
     "end_time": "2024-03-02T14:57:31.166926Z",
     "start_time": "2024-03-02T14:57:31.143703Z"
    }
   },
   "execution_count": 39,
   "outputs": [
    {
     "name": "stdout",
     "output_type": "stream",
     "text": [
      "Book '1984' by George Orwell added to the library.\n",
      "Book 'To Kill a Mockingbird' by Harper Lee added to the library.\n",
      "Book 'The Catcher in the Rye' by J.D. Salinger added to the library.\n",
      "Books in the library:\n",
      "- '1984' by George Orwell\n",
      "- 'To Kill a Mockingbird' by Harper Lee\n",
      "- 'The Catcher in the Rye' by J.D. Salinger\n",
      "Book '1984' removed from the library.\n",
      "Book 'The Great Gatsby' not found in the library.\n",
      "Books in the library:\n",
      "- 'To Kill a Mockingbird' by Harper Lee\n",
      "- 'The Catcher in the Rye' by J.D. Salinger\n"
     ]
    }
   ]
  },
  {
   "cell_type": "markdown",
   "source": [
    "10. (13б). Створіть клас Person з атрибутами name та age. Створіть ще один клас Employee з такими атрибутами, як department та salary. Створіть клас Manager, який успадковує обидва класи Person та Employee. Продемонструйте використання множинної спадковості, створивши обʼєкт класу Manager та отримавши mro для цього класу."
   ],
   "metadata": {
    "id": "lmV8pAwwNIqu"
   }
  },
  {
   "cell_type": "code",
   "source": [
    "class Person:\n",
    "    def __init__(self, name, age):\n",
    "        self.name = name\n",
    "        self.age = age\n",
    "        \n",
    "class Employee:\n",
    "    def __init__(self, department, salary):\n",
    "        self.department = department\n",
    "        self.salary = salary\n",
    "        \n",
    "class Manager(Person, Employee):\n",
    "    def __init__(self, name, age, department, salary):\n",
    "        Person.__init__(self, name, age)\n",
    "        Employee.__init__(self, department, salary)\n",
    "        \n",
    "    def description(self):\n",
    "        print(f'Employee name: {self.name}, age: {self.age}, dep: {self.department}, salary: {self.salary}')        \n",
    "\n",
    "\n",
    "manager = Manager(name=\"Bob\", age=12, department='department', salary=1000)\n",
    "manager.description()\n",
    "Manager.mro()"
   ],
   "metadata": {
    "id": "R49grKlWNPeN",
    "ExecuteTime": {
     "end_time": "2024-03-02T14:57:31.167297Z",
     "start_time": "2024-03-02T14:57:31.147511Z"
    }
   },
   "execution_count": 40,
   "outputs": [
    {
     "name": "stdout",
     "output_type": "stream",
     "text": [
      "Employee name: Bob, age: 12, dep: department, salary: 1000\n"
     ]
    },
    {
     "data": {
      "text/plain": "[__main__.Manager, __main__.Person, __main__.Employee, object]"
     },
     "execution_count": 40,
     "metadata": {},
     "output_type": "execute_result"
    }
   ]
  },
  {
   "cell_type": "markdown",
   "source": [
    "# II. Iterator"
   ],
   "metadata": {
    "id": "dIJyUiNBFG8G"
   }
  },
  {
   "cell_type": "markdown",
   "source": [
    "11. (4б). Визначте рядок(str) з 4ма різними за значенням символами. Створіть ітератор на основі цього рядка. Викличте 5 разів функцію next на ітераторі, 4ри перших з них огорніть у ф-цію print()."
   ],
   "metadata": {
    "id": "13vsm0NyKIzL"
   }
  },
  {
   "cell_type": "code",
   "source": [
    "my_string = str('abcd')\n",
    "\n",
    "my_iterator = iter(my_string)\n",
    "\n",
    "for _ in range(4):\n",
    "    print('next() is called')\n",
    "    print(next(my_iterator))"
   ],
   "metadata": {
    "id": "81ntabAkKuz-",
    "ExecuteTime": {
     "end_time": "2024-03-02T14:57:31.190505Z",
     "start_time": "2024-03-02T14:57:31.168789Z"
    }
   },
   "execution_count": 41,
   "outputs": [
    {
     "name": "stdout",
     "output_type": "stream",
     "text": [
      "next() is called\n",
      "a\n",
      "next() is called\n",
      "b\n",
      "next() is called\n",
      "c\n",
      "next() is called\n",
      "d\n"
     ]
    }
   ]
  },
  {
   "cell_type": "markdown",
   "source": [
    "А що якщо викликати цю ж функцію на рядку?"
   ],
   "metadata": {
    "id": "aekWHGXOLRsO"
   }
  },
  {
   "cell_type": "code",
   "source": [
    "print(next(iter(my_string)))"
   ],
   "metadata": {
    "id": "mxATGsErLV1i",
    "ExecuteTime": {
     "end_time": "2024-03-02T14:57:31.205523Z",
     "start_time": "2024-03-02T14:57:31.191980Z"
    }
   },
   "execution_count": 42,
   "outputs": [
    {
     "name": "stdout",
     "output_type": "stream",
     "text": [
      "a\n"
     ]
    }
   ]
  },
  {
   "cell_type": "markdown",
   "source": [
    " 12. (5б). Опишіть своїми словами в одному реченні, як ви розумієте різницю між ітерабельними обʼєктами та ітераторами (можна на прикладі)."
   ],
   "metadata": {
    "id": "XwtMEopwJ4pH"
   }
  },
  {
   "cell_type": "markdown",
   "source": [
    "Ітерабельні об'єкти - це об'єкти, які можна перебирати поелементно, наприклад, списки або рядки, тоді як ітератори - це об'єкти, які здатні повертати наступний елемент послідовності за запитом, використовуючи метод next(), наприклад, функція iter() перетворює ітерабельний об'єкт у відповідний ітератор, який можна використовувати для послідовного отримання елементів."
   ],
   "metadata": {
    "id": "-sHrODc3KFn8"
   }
  },
  {
   "cell_type": "markdown",
   "source": [
    "13. (11б). Створіть клас, що має визначений Iterator Protocol та при кожному виклику next повертає літери англійської абетки, поки вони не вичерпаються."
   ],
   "metadata": {
    "id": "E9qJWmNbK8Gl"
   }
  },
  {
   "cell_type": "code",
   "source": [
    "class EngAlphabet:\n",
    "    def __init__(self):\n",
    "        self.current_letter = ord('a') - 1\n",
    "\n",
    "    def __iter__(self):\n",
    "        return self\n",
    "\n",
    "    def __next__(self):\n",
    "        self.current_letter += 1\n",
    "        if self.current_letter <= ord('z'):\n",
    "            return chr(self.current_letter)\n",
    "        else:\n",
    "            raise StopIteration\n",
    "\n",
    "alphabet_iter = EngAlphabet()\n",
    "\n",
    "for _ in range(26):\n",
    "    print(next(alphabet_iter))"
   ],
   "metadata": {
    "id": "cqx-g_RsLo6I",
    "ExecuteTime": {
     "end_time": "2024-03-02T14:57:31.211874Z",
     "start_time": "2024-03-02T14:57:31.207780Z"
    }
   },
   "execution_count": 43,
   "outputs": [
    {
     "name": "stdout",
     "output_type": "stream",
     "text": [
      "a\n",
      "b\n",
      "c\n",
      "d\n",
      "e\n",
      "f\n",
      "g\n",
      "h\n",
      "i\n",
      "j\n",
      "k\n",
      "l\n",
      "m\n",
      "n\n",
      "o\n",
      "p\n",
      "q\n",
      "r\n",
      "s\n",
      "t\n",
      "u\n",
      "v\n",
      "w\n",
      "x\n",
      "y\n",
      "z\n"
     ]
    }
   ]
  },
  {
   "cell_type": "markdown",
   "source": [
    "# Вітаю! Ви велика(ий) молодець, що впоралась(вся). Похваліть себе та побалуйте чимось приємним. Я Вами пишаюся."
   ],
   "metadata": {
    "id": "Z3E3S_s1Fv7-"
   }
  }
 ]
}
